{
 "cells": [
  {
   "cell_type": "code",
   "execution_count": 10,
   "metadata": {},
   "outputs": [
    {
     "name": "stdout",
     "output_type": "stream",
     "text": [
      "['Industrials', 'Health Care', 'Health Care', 'Health Care', 'Information Technology', 'Communication Services', 'Information Technology', 'Information Technology', 'Consumer Discretionary', 'Utilities', 'Financials', 'Health Care', 'Materials', 'Information Technology', 'Industrials', 'Materials', 'Real Estate', 'Health Care', 'Health Care', 'Industrials', 'Utilities', 'Financials', 'Communication Services', 'Communication Services', 'Consumer Staples', 'Consumer Discretionary', 'Materials', 'Utilities', 'Industrials', 'Utilities', 'Financials', 'Financials', 'Real Estate', 'Utilities', 'Financials', 'Health Care', 'Industrials', 'Health Care', 'Information Technology', 'Information Technology', 'Information Technology', 'Health Care', 'Financials', 'Industrials', 'Energy', 'Real Estate', 'Information Technology', 'Information Technology', 'Consumer Discretionary', 'Consumer Staples', 'Information Technology', 'Financials', 'Financials', 'Communication Services', 'Utilities', 'Information Technology', 'Information Technology', 'Consumer Discretionary', 'Real Estate', 'Materials', 'Energy', 'Materials', 'Financials', 'Financials', 'Health Care', 'Health Care', 'Financials', 'Consumer Discretionary', 'Health Care', 'Health Care', 'Financials', 'Industrials', 'Consumer Discretionary', 'Consumer Discretionary', 'Real Estate', 'Health Care', 'Health Care', 'Information Technology', 'Information Technology', 'Consumer Staples', 'Industrials', 'Energy', 'Information Technology', 'Consumer Staples', 'Financials', 'Health Care', 'Consumer Discretionary', 'Consumer Discretionary', 'Industrials', 'Health Care', 'Industrials', 'Financials', 'Real Estate', 'Information Technology', 'Materials', 'Health Care', 'Utilities', 'Health Care', 'Materials', 'Financials', 'Communication Services', 'Energy', 'Consumer Discretionary', 'Financials', 'Consumer Staples', 'Health Care', 'Financials', 'Industrials', 'Information Technology', 'Financials', 'Financials', 'Information Technology', 'Consumer Staples', 'Financials', 'Utilities', 'Consumer Staples', 'Information Technology', 'Consumer Staples', 'Communication Services', 'Financials', 'Consumer Staples', 'Energy', 'Energy', 'Utilities', 'Consumer Staples', 'Health Care', 'Industrials', 'Information Technology', 'Materials', 'Consumer Staples', 'Real Estate', 'Industrials', 'Industrials', 'Health Care', 'Consumer Discretionary', 'Health Care', 'Consumer Discretionary', 'Health Care', 'Industrials', 'Industrials', 'Health Care', 'Energy', 'Health Care', 'Energy', 'Real Estate', 'Financials', 'Communication Services', 'Communication Services', 'Communication Services', 'Consumer Discretionary', 'Consumer Discretionary', 'Utilities', 'Consumer Discretionary', 'Industrials', 'Materials', 'Utilities', 'Utilities', 'Real Estate', 'Materials', 'Information Technology', 'Materials', 'Industrials', 'Consumer Discretionary', 'Materials', 'Utilities', 'Health Care', 'Communication Services', 'Industrials', 'Utilities', 'Energy', 'Industrials', 'Real Estate', 'Real Estate', 'Real Estate', 'Consumer Staples', 'Consumer Discretionary', 'Utilities', 'Utilities', 'Financials', 'Utilities', 'Consumer Discretionary', 'Industrials', 'Real Estate', 'Energy', 'Information Technology', 'Communication Services', 'Industrials', 'Real Estate', 'Industrials', 'Information Technology', 'Financials', 'Utilities', 'Financials', 'Information Technology', 'Information Technology', 'Information Technology', 'Industrials', 'Materials', 'Consumer Discretionary', 'Information Technology', 'Industrials', 'Industrials', 'Communication Services', 'Communication Services', 'Financials', 'Materials', 'Consumer Discretionary', 'Consumer Discretionary', 'Information Technology', 'Industrials', 'Industrials', 'Consumer Staples', 'Consumer Discretionary', 'Consumer Discretionary', 'Health Care', 'Financials', 'Information Technology', 'Financials', 'Industrials', 'Energy', 'Consumer Discretionary', 'Financials', 'Consumer Discretionary', 'Health Care', 'Real Estate', 'Health Care', 'Consumer Staples', 'Energy', 'Information Technology', 'Consumer Discretionary', 'Energy', 'Health Care', 'Consumer Discretionary', 'Industrials', 'Consumer Staples', 'Real Estate', 'Industrials', 'Information Technology', 'Health Care', 'Financials', 'Industrials', 'Industrials', 'Health Care', 'Industrials', 'Industrials', 'Health Care', 'Health Care', 'Industrials', 'Information Technology', 'Financials', 'Information Technology', 'Materials', 'Communication Services', 'Materials', 'Information Technology', 'Health Care', 'Financials', 'Information Technology', 'Health Care', 'Real Estate', 'Information Technology', 'Industrials', 'Industrials', 'Consumer Staples', 'Health Care', 'Industrials', 'Financials', 'Information Technology', 'Industrials', 'Consumer Staples', 'Financials', 'Information Technology', 'Consumer Staples', 'Real Estate', 'Energy', 'Information Technology', 'Consumer Staples', 'Consumer Staples', 'Consumer Discretionary', 'Industrials', 'Health Care', 'Information Technology', 'Consumer Staples', 'Consumer Discretionary', 'Consumer Discretionary', 'Information Technology', 'Consumer Discretionary', 'Health Care', 'Financials', 'Materials', 'Communication Services', 'Consumer Discretionary', 'Industrials', 'Financials', 'Consumer Discretionary', 'Communication Services', 'Materials', 'Financials', 'Energy', 'Energy', 'Financials', 'Consumer Discretionary', 'Financials', 'Materials', 'Industrials', 'Information Technology', 'Consumer Staples', 'Information Technology', 'Consumer Discretionary', 'Health Care', 'Health Care', 'Health Care', 'Financials', 'Health Care', 'Consumer Discretionary', 'Information Technology', 'Information Technology', 'Information Technology', 'Real Estate', 'Consumer Discretionary', 'Consumer Staples', 'Consumer Staples', 'Consumer Staples', 'Financials', 'Financials', 'Materials', 'Information Technology', 'Financials', 'Health Care', 'Financials', 'Energy', 'Information Technology', 'Communication Services', 'Consumer Discretionary', 'Materials', 'Communication Services', 'Communication Services', 'Utilities', 'Industrials', 'Consumer Discretionary', 'Utilities', 'Industrials', 'Financials', 'Industrials', 'Information Technology', 'Consumer Discretionary', 'Utilities', 'Materials', 'Information Technology', 'Consumer Discretionary', 'Consumer Discretionary', 'Energy', 'Industrials', 'Communication Services', 'Energy', 'Information Technology', 'Industrials', 'Industrials', 'Materials', 'Industrials', 'Information Technology', 'Information Technology', 'Information Technology', 'Industrials', 'Financials', 'Consumer Staples', 'Health Care', 'Health Care', 'Health Care', 'Consumer Staples', 'Energy', 'Utilities', 'Energy', 'Financials', 'Consumer Discretionary', 'Materials', 'Utilities', 'Financials', 'Consumer Staples', 'Financials', 'Real Estate', 'Financials', 'Utilities', 'Real Estate', 'Consumer Discretionary', 'Consumer Discretionary', 'Information Technology', 'Industrials', 'Information Technology', 'Health Care', 'Consumer Discretionary', 'Financials', 'Industrials', 'Real Estate', 'Real Estate', 'Health Care', 'Financials', 'Industrials', 'Health Care', 'Industrials', 'Industrials', 'Industrials', 'Industrials', 'Consumer Discretionary', 'Consumer Discretionary', 'Financials', 'Information Technology', 'Real Estate', 'Energy', 'Information Technology', 'Materials', 'Utilities', 'Information Technology', 'Materials', 'Real Estate', 'Information Technology', 'Real Estate', 'Industrials', 'Utilities', 'Industrials', 'Industrials', 'Consumer Discretionary', 'Financials', 'Health Care', 'Health Care', 'Financials', 'Financials', 'Information Technology', 'Consumer Staples', 'Communication Services', 'Financials', 'Communication Services', 'Consumer Discretionary', 'Consumer Discretionary', 'Information Technology', 'Energy', 'Industrials', 'Health Care', 'Information Technology', 'Information Technology', 'Industrials', 'Health Care', 'Consumer Discretionary', 'Consumer Discretionary', 'Consumer Discretionary', 'Industrials', 'Industrials', 'Financials', 'Financials', 'Communication Services', 'Information Technology', 'Consumer Staples', 'Real Estate', 'Consumer Discretionary', 'Financials', 'Consumer Discretionary', 'Consumer Discretionary', 'Industrials', 'Industrials', 'Health Care', 'Industrials', 'Industrials', 'Health Care', 'Financials', 'Consumer Discretionary', 'Energy', 'Health Care', 'Real Estate', 'Information Technology', 'Industrials', 'Communication Services\\n', 'Health Care', 'Communication Services', 'Information Technology', 'Information Technology', 'Real Estate', 'Materials', 'Financials', 'Industrials', 'Consumer Staples', 'Consumer Staples', 'Communication Services', 'Industrials', 'Health Care', 'Utilities', 'Financials', 'Real Estate', 'Health Care', 'Information Technology', 'Information Technology', 'Materials', 'Real Estate', 'Consumer Discretionary', 'Energy', 'Financials', 'Consumer Discretionary', 'Utilities', 'Information Technology', 'Information Technology', 'Industrials', 'Consumer Discretionary', 'Information Technology', 'Health Care', 'Financials', 'Health Care']\n"
     ]
    }
   ],
   "source": [
    "# from youtube \n",
    "#https://www.youtube.com/watch?v=C--57BP79EM&feature=youtu.be\n",
    "# Ctrl+U in Chrome to saw the source data\n",
    "\n",
    "import bs4 as bs\n",
    "import pickle\n",
    "import requests\n",
    "\n",
    "from datetime import datetime\n",
    "\n",
    "\n",
    "#def save_sp500_tickers():\n",
    "url='https://en.wikipedia.org/wiki/List_of_S%26P_500_companies'\n",
    "resp= requests.get(url)\n",
    "soup=bs.BeautifulSoup(resp.text)\n",
    "\n",
    "type(resp)\n",
    "#table=soup.find('id',{'id':'constituents'})\n",
    "table=soup.find('table',{'class':'wikitable sortable'})\n",
    "\n",
    "tickers= []\n",
    "tickerCategories= []\n",
    "for row in table.findAll('tr')[1:]: #tr is table row,[1:] first row is the table header\n",
    "    #below equavalient as ticker=row.findAll('td')[0].text\n",
    "    ticker=row.findAll('td')[0].text.replace('\\n','')  # td means table data\n",
    "    \n",
    "    tickerCategory=row.findAll('td')[3].text  # td means table data\n",
    "    \n",
    "    tickers.append(ticker)\n",
    "    tickerCategories.append(tickerCategory)\n",
    "        \n",
    "\n",
    "#print(tickers)\n",
    "print(tickerCategories)"
   ]
  }
 ],
 "metadata": {
  "kernelspec": {
   "display_name": "Python 3",
   "language": "python",
   "name": "python3"
  },
  "language_info": {
   "codemirror_mode": {
    "name": "ipython",
    "version": 3
   },
   "file_extension": ".py",
   "mimetype": "text/x-python",
   "name": "python",
   "nbconvert_exporter": "python",
   "pygments_lexer": "ipython3",
   "version": "3.7.8"
  }
 },
 "nbformat": 4,
 "nbformat_minor": 4
}
