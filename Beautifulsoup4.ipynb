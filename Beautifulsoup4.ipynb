{
 "cells": [
  {
   "cell_type": "code",
   "execution_count": 32,
   "metadata": {},
   "outputs": [
    {
     "name": "stdout",
     "output_type": "stream",
     "text": [
      "[<p>個 人 收 藏</p>]\n",
      "[]\n",
      "[]\n"
     ]
    }
   ],
   "source": [
    "#Reference website\n",
    "#https://www.youtube.com/watch?v=aIPqt-OdmS0\n",
    "\n",
    "\n",
    "import bs4 as bs\n",
    "import urllib.request\n",
    "\n",
    "#https://pythonprogramming.net/parsememcparseface/\n",
    "source= urllib.request.urlopen('https://www.bochk.com/m/tc/investment/rates/deposit.html').read()\n",
    "\n",
    "soup=bs.BeautifulSoup(source,'lxml')\n",
    "\n",
    "#print(soup.title)\n",
    "#print(soup.title.name)\n",
    "#print(soup.title.text)\n",
    "#print(soup.title.string)\n",
    "#print(soup.title.p)\n",
    "#print(soup.get_text())\n",
    "\n",
    "\n",
    "print(soup.find_all('p'))\n",
    "print(soup.find_all('td'))\n",
    "print(soup.find_all('tr'))\n",
    "\n",
    "for item in soup.find_all('td'):\n",
    "    print(item.text)\n",
    "    \n",
    "    \n",
    "    <td>\n",
    "\t\t\t\t\t\t\t\t\t\t \n",
    "\t\t\t\t\t \t\t\t\t\t\n",
    "\t\t\t\t\t\t\t\t\t\t\t0.30000%\n",
    "\t\t\t\t\t \t\t\t\t\t\n",
    "\t\t\t\t\t \t\t\t\t</td>"
   ]
  }
 ],
 "metadata": {
  "kernelspec": {
   "display_name": "Python 3",
   "language": "python",
   "name": "python3"
  },
  "language_info": {
   "codemirror_mode": {
    "name": "ipython",
    "version": 3
   },
   "file_extension": ".py",
   "mimetype": "text/x-python",
   "name": "python",
   "nbconvert_exporter": "python",
   "pygments_lexer": "ipython3",
   "version": "3.7.8"
  }
 },
 "nbformat": 4,
 "nbformat_minor": 4
}
