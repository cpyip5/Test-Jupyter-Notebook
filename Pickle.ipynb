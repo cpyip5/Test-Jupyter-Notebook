{
 "cells": [
  {
   "cell_type": "code",
   "execution_count": 4,
   "metadata": {},
   "outputs": [
    {
     "name": "stdout",
     "output_type": "stream",
     "text": [
      "{1: '6', 2: 'q', 3: '123'}\n"
     ]
    }
   ],
   "source": [
    "#Pickle\n",
    "import pickle\n",
    "\n",
    "example_dict={1:\"6\",2:\"q\",3:\"123\"}\n",
    "\n",
    "#My understanding\n",
    "#Pickle is use to serialize any object in python\n",
    "#It is useful when we have some object which require lots of calculation and want to reuse again, like the trained classifer\n",
    "\n",
    "\n",
    "#Below 3 lines serialie the oject exmaple_dict  \n",
    "#pickle_out =open(\"dict.pickle\",\"wb\")\n",
    "#pickle.dump(example_dict,pickle_out)\n",
    "#pickle_out.close()\n",
    "\n",
    "\n",
    "#Below codes try to unserialize the pickle into an object\n",
    "pickle_in=open(\"dict.pickle\",\"rb\")\n",
    "example_dict=pickle.load(pickle_in)\n",
    "\n",
    "\n",
    "#Outout the unserialized object for verification\n",
    "print(example_dict)"
   ]
  },
  {
   "cell_type": "code",
   "execution_count": 1,
   "metadata": {},
   "outputs": [
    {
     "data": {
      "text/plain": [
       "4"
      ]
     },
     "execution_count": 1,
     "metadata": {},
     "output_type": "execute_result"
    }
   ],
   "source": [
    "import pickle\n",
    "\n",
    "def Add(x,y):\n",
    "    return x+y\n",
    "\n",
    "\n",
    "Add(1,3)\n",
    "\n"
   ]
  }
 ],
 "metadata": {
  "kernelspec": {
   "display_name": "Python 3",
   "language": "python",
   "name": "python3"
  },
  "language_info": {
   "codemirror_mode": {
    "name": "ipython",
    "version": 3
   },
   "file_extension": ".py",
   "mimetype": "text/x-python",
   "name": "python",
   "nbconvert_exporter": "python",
   "pygments_lexer": "ipython3",
   "version": "3.7.8"
  }
 },
 "nbformat": 4,
 "nbformat_minor": 4
}
