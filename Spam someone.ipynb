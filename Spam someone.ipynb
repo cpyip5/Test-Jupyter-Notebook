{
 "cells": [
  {
   "cell_type": "code",
   "execution_count": null,
   "metadata": {},
   "outputs": [],
   "source": []
  },
  {
   "cell_type": "code",
   "execution_count": null,
   "metadata": {},
   "outputs": [],
   "source": []
  },
  {
   "cell_type": "code",
   "execution_count": 20,
   "metadata": {},
   "outputs": [],
   "source": [
    "import pyautogui as ai\n",
    "import keyboard\n",
    "import time\n",
    "\n",
    "# allow you to manually open the application you willing to spam\n",
    "time.sleep(5)\n",
    "#or you can try to trigger the program by pressing \"Ctrl\"\n",
    "keyboard.wait('Ctrl')\n",
    "\n",
    "#熱鍵組合\n",
    "#ai.keyDown('alt')\n",
    "#ai.keyDown('tab')\n",
    "#ai.hotkey('alt','tab')        # 同上面四句，組合鍵\n",
    "\n",
    "#ai.click()\n",
    "#ai.scroll(2000)\n",
    "\n",
    "#ai.click((ai.locateCenterOnScreen('Importpyautohui.pnh')))  \n",
    "\n",
    "\n",
    "f=['a','b','c','d','e','f','h','h','i','j','k',]\n",
    "\n",
    "\n",
    "for word in f:\n",
    "    #while keyboard.is_pressed('q')==False:  # not working, want o create some mechancism to manual pause the program\n",
    "        ai.typewrite(word)\n",
    "        time.sleep(0.3)\n",
    "        ai.press('enter')"
   ]
  },
  {
   "cell_type": "code",
   "execution_count": null,
   "metadata": {},
   "outputs": [],
   "source": []
  },
  {
   "cell_type": "code",
   "execution_count": null,
   "metadata": {},
   "outputs": [],
   "source": []
  }
 ],
 "metadata": {
  "kernelspec": {
   "display_name": "Python 3",
   "language": "python",
   "name": "python3"
  },
  "language_info": {
   "codemirror_mode": {
    "name": "ipython",
    "version": 3
   },
   "file_extension": ".py",
   "mimetype": "text/x-python",
   "name": "python",
   "nbconvert_exporter": "python",
   "pygments_lexer": "ipython3",
   "version": "3.7.8"
  }
 },
 "nbformat": 4,
 "nbformat_minor": 4
}
