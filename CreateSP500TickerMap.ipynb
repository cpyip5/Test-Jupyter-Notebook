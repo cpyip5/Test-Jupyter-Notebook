{
 "cells": [
  {
   "cell_type": "code",
   "execution_count": null,
   "metadata": {},
   "outputs": [
    {
     "name": "stdout",
     "output_type": "stream",
     "text": [
      "- BRK.B: No data found, symbol may be delisted\n"
     ]
    },
    {
     "name": "stderr",
     "output_type": "stream",
     "text": [
      "C:\\Users\\GPSTEPHY\\AppData\\Roaming\\Python\\Python37\\site-packages\\pandas\\core\\frame.py:4303: SettingWithCopyWarning: \n",
      "A value is trying to be set on a copy of a slice from a DataFrame\n",
      "\n",
      "See the caveats in the documentation: https://pandas.pydata.org/pandas-docs/stable/user_guide/indexing.html#returning-a-view-versus-a-copy\n",
      "  errors=errors,\n"
     ]
    },
    {
     "name": "stdout",
     "output_type": "stream",
     "text": [
      "- BF.B: No data found for this date range, symbol may be delisted\n"
     ]
    },
    {
     "name": "stderr",
     "output_type": "stream",
     "text": [
      "C:\\Users\\GPSTEPHY\\AppData\\Roaming\\Python\\Python37\\site-packages\\pandas\\core\\frame.py:4303: SettingWithCopyWarning: \n",
      "A value is trying to be set on a copy of a slice from a DataFrame\n",
      "\n",
      "See the caveats in the documentation: https://pandas.pydata.org/pandas-docs/stable/user_guide/indexing.html#returning-a-view-versus-a-copy\n",
      "  errors=errors,\n"
     ]
    }
   ],
   "source": [
    "import pickle\n",
    "import yfinance as yf\n",
    "\n",
    "\n",
    "#######################################################################################################\n",
    "#Get the SP500 list from pickle\n",
    "#######################################################################################################\n",
    "\n",
    "pickle_in=open(\"sp500-20201013.pickle\",\"rb\")\n",
    "SP500=pickle.load(pickle_in)\n",
    "\n",
    "#######################################################################################################\n",
    "#Get ticker's data from internet\n",
    "#######################################################################################################\n",
    "\n",
    "#TickerList=['ARKK','SPY']\n",
    "TickerList=SP500\n",
    "\n",
    "Master=pd.DataFrame() \n",
    "\n",
    "for ticker in TickerList:\n",
    "    #define the ticker symbol\n",
    "    tickerSymbol = ticker\n",
    "\n",
    "    #get data on this ticker\n",
    "    tickerData = yf.Ticker(tickerSymbol)\n",
    "\n",
    "    #get the historical prices for this ticker\n",
    "    df = tickerData.history(period='1d', start='2010-1-1', end='2020-10-09')\n",
    "\n",
    "    #Get only Open, Close, Volume\n",
    "    #df=df[['Open','Close','Volume']]\n",
    "    #df.rename(columns = {'Open':'Open'+\"_\"+ticker,'Close':'Close'+\"_\"+ticker,'Volume':'Volume'+\"_\"+ticker}, inplace = True)\n",
    "    #Get only  Close\n",
    "    df=df[['Close']]\n",
    "    df.rename(columns = {'Close':'Close'+\"_\"+ticker}, inplace = True)\n",
    "\n",
    "    Master= pd.concat([Master, df], axis=0)\n",
    "\n",
    "    \n",
    "Master.dropna(inplace=True)\n",
    "\n",
    "\n",
    "#do it at last of the dataframe slicing\n",
    "#rearrange columns to better view\n",
    "#df['Year']=df.index.year\n",
    "#df['Month']=df.index.month\n",
    "\n",
    "#######################################################################################################\n",
    "#merge all tickrs into one dataframe\n",
    "#result = pd.concat([df1, df2], axis=0)\n",
    "#######################################################################################################\n",
    "\n"
   ]
  },
  {
   "cell_type": "code",
   "execution_count": 1,
   "metadata": {},
   "outputs": [
    {
     "name": "stdout",
     "output_type": "stream",
     "text": [
      "      HPI  Int_rate  US_GDP_Thousands\n",
      "2001   80         2                50\n",
      "2002   85         3                55\n",
      "2003   88         2                65\n",
      "2004   85         2                55\n",
      "      HPI  Int_rate  UK_GDP_Thousands\n",
      "2005   80         2                50\n",
      "2006   85         3                55\n",
      "2007   88         2                65\n",
      "2008   85         2                55\n",
      "      HPI  Unemployment  Low_tier_HPI\n",
      "2001   80             7            50\n",
      "2002   85             8            52\n",
      "2003   88             9            50\n",
      "2004   85             6            53\n",
      "      HPI  Int_rate  US_GDP_Thousands  UK_GDP_Thousands\n",
      "2001   80         2              50.0               NaN\n",
      "2002   85         3              55.0               NaN\n",
      "2003   88         2              65.0               NaN\n",
      "2004   85         2              55.0               NaN\n",
      "2005   80         2               NaN              50.0\n",
      "2006   85         3               NaN              55.0\n",
      "2007   88         2               NaN              65.0\n",
      "2008   85         2               NaN              55.0\n"
     ]
    }
   ],
   "source": []
  }
 ],
 "metadata": {
  "kernelspec": {
   "display_name": "Python 3",
   "language": "python",
   "name": "python3"
  },
  "language_info": {
   "codemirror_mode": {
    "name": "ipython",
    "version": 3
   },
   "file_extension": ".py",
   "mimetype": "text/x-python",
   "name": "python",
   "nbconvert_exporter": "python",
   "pygments_lexer": "ipython3",
   "version": "3.7.8"
  }
 },
 "nbformat": 4,
 "nbformat_minor": 4
}
